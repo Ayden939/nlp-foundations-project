{
 "cells": [
  {
   "cell_type": "code",
   "execution_count": 1,
   "id": "85701698-5496-44fb-9e4b-6f409619a8eb",
   "metadata": {},
   "outputs": [
    {
     "name": "stdout",
     "output_type": "stream",
     "text": [
      "Requirement already satisfied: nltk in c:\\users\\ayden\\anaconda3\\lib\\site-packages (3.8.1)\n",
      "Requirement already satisfied: click in c:\\users\\ayden\\anaconda3\\lib\\site-packages (from nltk) (8.1.7)\n",
      "Requirement already satisfied: joblib in c:\\users\\ayden\\anaconda3\\lib\\site-packages (from nltk) (1.4.2)\n",
      "Requirement already satisfied: regex>=2021.8.3 in c:\\users\\ayden\\anaconda3\\lib\\site-packages (from nltk) (2023.10.3)\n",
      "Requirement already satisfied: tqdm in c:\\users\\ayden\\anaconda3\\lib\\site-packages (from nltk) (4.66.4)\n",
      "Requirement already satisfied: colorama in c:\\users\\ayden\\anaconda3\\lib\\site-packages (from click->nltk) (0.4.6)\n",
      "Note: you may need to restart the kernel to use updated packages.\n"
     ]
    }
   ],
   "source": [
    "pip install nltk"
   ]
  },
  {
   "cell_type": "code",
   "execution_count": null,
   "id": "a8cc7b01-3344-4638-8c7f-80e7892d1cbb",
   "metadata": {},
   "outputs": [],
   "source": [
    "import nltk\n",
    "nltk.download()"
   ]
  },
  {
   "cell_type": "code",
   "execution_count": null,
   "id": "af0f31dd-2e9c-4559-afe4-b9ff8f436c64",
   "metadata": {},
   "outputs": [],
   "source": [
    "from nltk.tokenize import sent_tokenize\n",
    "from nltk.tokenize import word_tokenize"
   ]
  },
  {
   "cell_type": "code",
   "execution_count": null,
   "id": "1308af45-dcc5-4aec-923b-1eb0cf2d183e",
   "metadata": {},
   "outputs": [],
   "source": [
    "example_sentence = \"Education is important. Education is innovative. \" \\\n",
    "\"Education isn't futile. Education is the passport \" \\\n",
    "\"to the future, for tomorrow belongs to those who prepare for it today.\""
   ]
  },
  {
   "cell_type": "code",
   "execution_count": null,
   "id": "33801953-c833-4570-a58c-e8eb364a4cb4",
   "metadata": {},
   "outputs": [],
   "source": [
    "sent_tokenize(example_sentence)"
   ]
  },
  {
   "cell_type": "code",
   "execution_count": null,
   "id": "74351b58-f063-45c5-a14f-8f2863c6b05d",
   "metadata": {},
   "outputs": [],
   "source": [
    "word_tokenize(example_sentence)"
   ]
  },
  {
   "cell_type": "code",
   "execution_count": null,
   "id": "b66bf8a3-273c-41ee-a2fb-04ef1765ab15",
   "metadata": {},
   "outputs": [],
   "source": [
    "from nltk.corpus import stopwords\n",
    "tokenized_sent = word_tokenize(example_sentence)\n",
    "stop_words = set(stopwords.words(\"english\"))\n",
    "filtered_list = []\n",
    "\n",
    "for word in tokenized_sent:\n",
    "    if word.casefold() not in stop_words:\n",
    "        filtered_list.append(word)\n",
    "filtered_list"
   ]
  },
  {
   "cell_type": "code",
   "execution_count": null,
   "id": "57cdfdfa-b3d3-4fb7-9b1c-3353fa6e9d24",
   "metadata": {},
   "outputs": [],
   "source": [
    "from nltk.stem import WordNetLemmatizer\n",
    "lemmatizer = WordNetLemmatizer()\n",
    "lemmatized_words = [lemmatizer.lemmatize(word) for word in filtered_list]\n",
    "lemmatized_words"
   ]
  },
  {
   "cell_type": "code",
   "execution_count": null,
   "id": "a2a347d8-228a-4d42-b48c-4b8174840817",
   "metadata": {},
   "outputs": [],
   "source": [
    "nltk.pos_tag(tokenized_sent)"
   ]
  },
  {
   "cell_type": "code",
   "execution_count": null,
   "id": "a258f87b-7066-4e6f-8036-cdf4be452a11",
   "metadata": {},
   "outputs": [],
   "source": [
    "grammar = \"NP:{<DT>?<JJ>*<JJ>}\""
   ]
  },
  {
   "cell_type": "code",
   "execution_count": null,
   "id": "e5d6c988-737c-45b1-8319-aac5b41d8470",
   "metadata": {},
   "outputs": [],
   "source": [
    "parser_chunking = nltk.RegexpParser(grammar)\n",
    "tagged_sent = nltk.pos_tag(tokenized_sent)\n",
    "parser_chunking.parse(tagged_sent)\n",
    "output = parser_chunking.parse(tagged_sent)\n",
    "output.draw()"
   ]
  }
 ],
 "metadata": {
  "kernelspec": {
   "display_name": "Python 3 (ipykernel)",
   "language": "python",
   "name": "python3"
  },
  "language_info": {
   "codemirror_mode": {
    "name": "ipython",
    "version": 3
   },
   "file_extension": ".py",
   "mimetype": "text/x-python",
   "name": "python",
   "nbconvert_exporter": "python",
   "pygments_lexer": "ipython3",
   "version": "3.12.4"
  }
 },
 "nbformat": 4,
 "nbformat_minor": 5
}
